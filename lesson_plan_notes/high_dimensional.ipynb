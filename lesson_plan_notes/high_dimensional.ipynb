{
    "cells": [
        {
            "cell_type": "code",
            "execution_count": 1,
            "source": [
                "import numpy as np\n",
                "x = np.arange(1, 46)\n",
                "x"
            ],
            "outputs": [
                {
                    "output_type": "execute_result",
                    "data": {
                        "text/plain": [
                            "array([ 1,  2,  3,  4,  5,  6,  7,  8,  9, 10, 11, 12, 13, 14, 15, 16, 17,\n",
                            "       18, 19, 20, 21, 22, 23, 24, 25, 26, 27, 28, 29, 30, 31, 32, 33, 34,\n",
                            "       35, 36, 37, 38, 39, 40, 41, 42, 43, 44, 45])"
                        ]
                    },
                    "metadata": {},
                    "execution_count": 1
                }
            ],
            "metadata": {}
        },
        {
            "cell_type": "code",
            "execution_count": 2,
            "source": [
                "x1 = np.reshape(x, (3,5,3))\n",
                "x1"
            ],
            "outputs": [
                {
                    "output_type": "execute_result",
                    "data": {
                        "text/plain": [
                            "array([[[ 1,  2,  3],\n",
                            "        [ 4,  5,  6],\n",
                            "        [ 7,  8,  9],\n",
                            "        [10, 11, 12],\n",
                            "        [13, 14, 15]],\n",
                            "\n",
                            "       [[16, 17, 18],\n",
                            "        [19, 20, 21],\n",
                            "        [22, 23, 24],\n",
                            "        [25, 26, 27],\n",
                            "        [28, 29, 30]],\n",
                            "\n",
                            "       [[31, 32, 33],\n",
                            "        [34, 35, 36],\n",
                            "        [37, 38, 39],\n",
                            "        [40, 41, 42],\n",
                            "        [43, 44, 45]]])"
                        ]
                    },
                    "metadata": {},
                    "execution_count": 2
                }
            ],
            "metadata": {}
        },
        {
            "cell_type": "code",
            "execution_count": 3,
            "source": [
                "x1[1,:,:]"
            ],
            "outputs": [
                {
                    "output_type": "execute_result",
                    "data": {
                        "text/plain": [
                            "array([[16, 17, 18],\n",
                            "       [19, 20, 21],\n",
                            "       [22, 23, 24],\n",
                            "       [25, 26, 27],\n",
                            "       [28, 29, 30]])"
                        ]
                    },
                    "metadata": {},
                    "execution_count": 3
                }
            ],
            "metadata": {}
        },
        {
            "cell_type": "code",
            "execution_count": 4,
            "source": [
                "x1[:,:,1]"
            ],
            "outputs": [
                {
                    "output_type": "execute_result",
                    "data": {
                        "text/plain": [
                            "array([[ 2,  5,  8, 11, 14],\n",
                            "       [17, 20, 23, 26, 29],\n",
                            "       [32, 35, 38, 41, 44]])"
                        ]
                    },
                    "metadata": {},
                    "execution_count": 4
                }
            ],
            "metadata": {}
        },
        {
            "cell_type": "code",
            "execution_count": 5,
            "source": [
                "x1[:,:,2]"
            ],
            "outputs": [
                {
                    "output_type": "execute_result",
                    "data": {
                        "text/plain": [
                            "array([[ 3,  6,  9, 12, 15],\n",
                            "       [18, 21, 24, 27, 30],\n",
                            "       [33, 36, 39, 42, 45]])"
                        ]
                    },
                    "metadata": {},
                    "execution_count": 5
                }
            ],
            "metadata": {}
        },
        {
            "cell_type": "code",
            "execution_count": 6,
            "source": [
                "x1[:,:,2] - x1[:,:,1]"
            ],
            "outputs": [
                {
                    "output_type": "execute_result",
                    "data": {
                        "text/plain": [
                            "array([[1, 1, 1, 1, 1],\n",
                            "       [1, 1, 1, 1, 1],\n",
                            "       [1, 1, 1, 1, 1]])"
                        ]
                    },
                    "metadata": {},
                    "execution_count": 6
                }
            ],
            "metadata": {}
        },
        {
            "cell_type": "code",
            "execution_count": null,
            "source": [],
            "outputs": [],
            "metadata": {}
        }
    ],
    "metadata": {
        "orig_nbformat": 4,
        "language_info": {
            "name": "python",
            "version": "3.9.6",
            "mimetype": "text/x-python",
            "codemirror_mode": {
                "name": "ipython",
                "version": 3
            },
            "pygments_lexer": "ipython3",
            "nbconvert_exporter": "python",
            "file_extension": ".py"
        },
        "kernelspec": {
            "name": "python3",
            "display_name": "Python 3.9.6 64-bit ('base': conda)"
        },
        "interpreter": {
            "hash": "f06fa9c80cc08d4d343f66ad24a278ad0285590eac640a80c32c9d748f33a802"
        }
    },
    "nbformat": 4,
    "nbformat_minor": 5
}