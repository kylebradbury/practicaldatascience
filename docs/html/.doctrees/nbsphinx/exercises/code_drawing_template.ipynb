{
 "cells": [
  {
   "cell_type": "markdown",
   "id": "773b6d2e",
   "metadata": {},
   "source": [
    "# Code-Drawing Template"
   ]
  },
  {
   "cell_type": "markdown",
   "id": "8735dd72",
   "metadata": {},
   "source": [
    "![code frame](../images/code_frame.png)\n",
    "![code frame](../images/code_frame.png)\n",
    "![code frame](../images/code_frame.png)\n",
    "![code frame](../images/code_frame.png)\n",
    "![code frame](../images/code_frame.png)\n",
    "![code frame](../images/code_frame.png)\n",
    "![code frame](../images/code_frame.png)\n",
    "![code frame](../images/code_frame.png)\n",
    "![code frame](../images/code_frame.png)\n",
    "![code frame](../images/code_frame.png)\n",
    "![code frame](../images/code_frame.png)\n",
    "![code frame](../images/code_frame.png)"
   ]
  },
  {
   "cell_type": "code",
   "execution_count": null,
   "id": "1a3b5e7e",
   "metadata": {},
   "outputs": [],
   "source": []
  }
 ],
 "metadata": {
  "kernelspec": {
   "display_name": "Python 3",
   "language": "python",
   "name": "python3"
  },
  "language_info": {
   "codemirror_mode": {
    "name": "ipython",
    "version": 3
   },
   "file_extension": ".py",
   "mimetype": "text/x-python",
   "name": "python",
   "nbconvert_exporter": "python",
   "pygments_lexer": "ipython3",
   "version": "3.7.3"
  }
 },
 "nbformat": 4,
 "nbformat_minor": 5
}
