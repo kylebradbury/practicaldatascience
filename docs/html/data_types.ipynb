{
 "cells": [
  {
   "cell_type": "markdown",
   "id": "56d715e0",
   "metadata": {},
   "source": [
    "# How computers think about numbers and text"
   ]
  },
  {
   "cell_type": "code",
   "execution_count": 3,
   "id": "8bbb452e",
   "metadata": {},
   "outputs": [
    {
     "data": {
      "text/plain": [
       "\"0000000000000000000000000000000000000000000000000000000000000001\""
      ]
     },
     "execution_count": 3,
     "metadata": {},
     "output_type": "execute_result"
    }
   ],
   "source": [
    "bitstring(1)"
   ]
  },
  {
   "cell_type": "code",
   "execution_count": 5,
   "id": "d1eead07",
   "metadata": {},
   "outputs": [
    {
     "data": {
      "text/plain": [
       "\"0011111111110000000000000000000000000000000000000000000000000000\""
      ]
     },
     "execution_count": 5,
     "metadata": {},
     "output_type": "execute_result"
    }
   ],
   "source": [
    "bitstring(1.0)"
   ]
  },
  {
   "cell_type": "code",
   "execution_count": 6,
   "id": "340c164a",
   "metadata": {},
   "outputs": [
    {
     "data": {
      "text/plain": [
       "false"
      ]
     },
     "execution_count": 6,
     "metadata": {},
     "output_type": "execute_result"
    }
   ],
   "source": [
    "(3/2) == 1/5"
   ]
  },
  {
   "cell_type": "markdown",
   "id": "69702d02",
   "metadata": {},
   "source": [
    "Further reading / Resources: \n",
    "\n",
    "Computerphile Floating Point: https://www.youtube.com/watch?v=PZRI1IfStY0\n",
    "\n",
    "Computerphile Unicode: https://www.youtube.com/watch?v=MijmeoH9LT4"
   ]
  },
  {
   "cell_type": "code",
   "execution_count": null,
   "id": "7363fa48",
   "metadata": {},
   "outputs": [],
   "source": []
  }
 ],
 "metadata": {
  "kernelspec": {
   "display_name": "Julia 1.0.3",
   "language": "julia",
   "name": "julia-1.0"
  },
  "language_info": {
   "file_extension": ".jl",
   "mimetype": "application/julia",
   "name": "julia",
   "version": "1.0.3"
  }
 },
 "nbformat": 4,
 "nbformat_minor": 5
}
