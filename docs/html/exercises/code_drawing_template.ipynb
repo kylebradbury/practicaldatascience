{
 "cells": [
  {
   "cell_type": "markdown",
   "id": "3fd4d564",
   "metadata": {},
   "source": [
    "# Code-Drawing Template"
   ]
  },
  {
   "cell_type": "markdown",
   "id": "943a2b5f",
   "metadata": {},
   "source": [
    "![code frame](../images/code_frame.png)\n",
    "![code frame](../images/code_frame.png)\n",
    "![code frame](../images/code_frame.png)\n",
    "![code frame](../images/code_frame.png)\n",
    "![code frame](../images/code_frame.png)\n",
    "![code frame](../images/code_frame.png)\n",
    "![code frame](../images/code_frame.png)\n",
    "![code frame](../images/code_frame.png)\n",
    "![code frame](../images/code_frame.png)\n",
    "![code frame](../images/code_frame.png)\n",
    "![code frame](../images/code_frame.png)\n",
    "![code frame](../images/code_frame.png)"
   ]
  },
  {
   "cell_type": "code",
   "execution_count": null,
   "id": "59fb7fe3",
   "metadata": {},
   "outputs": [],
   "source": []
  }
 ],
 "metadata": {
  "kernelspec": {
   "display_name": "Python 3",
   "language": "python",
   "name": "python3"
  },
  "language_info": {
   "codemirror_mode": {
    "name": "ipython",
    "version": 3
   },
   "file_extension": ".py",
   "mimetype": "text/x-python",
   "name": "python",
   "nbconvert_exporter": "python",
   "pygments_lexer": "ipython3",
   "version": "3.7.3"
  }
 },
 "nbformat": 4,
 "nbformat_minor": 5
}
