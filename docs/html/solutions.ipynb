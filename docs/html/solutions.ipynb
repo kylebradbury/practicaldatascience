{
 "cells": [
  {
   "cell_type": "markdown",
   "metadata": {},
   "source": [
    "# Solutions"
   ]
  },
  {
   "cell_type": "markdown",
   "metadata": {},
   "source": [
    "- [Numpy Vector Solutions](exercises/Solutions_numpy_vectors.ipynb)\n",
    "- [Pandas Series](exercises/Solutions_series.ipynb)\n",
    "- [Pandas Dataframes](exercises/Solutions_dataframe.ipynb)\n",
    "- [Missing Data / Wage Inequality](exercises/Solutions_missing.ipynb)     \n",
    "- [Cleaning / Education Inequality](exercises/Solutions_cleaning.ipynb)"
   ]
  }
 ],
 "metadata": {
  "kernelspec": {
   "display_name": "Python 3",
   "language": "python",
   "name": "python3"
  },
  "language_info": {
   "codemirror_mode": {
    "name": "ipython",
    "version": 3
   },
   "file_extension": ".py",
   "mimetype": "text/x-python",
   "name": "python",
   "nbconvert_exporter": "python",
   "pygments_lexer": "ipython3",
   "version": "3.7.8"
  }
 },
 "nbformat": 4,
 "nbformat_minor": 4
}
